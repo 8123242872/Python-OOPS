{
  "nbformat": 4,
  "nbformat_minor": 0,
  "metadata": {
    "colab": {
      "provenance": []
    },
    "kernelspec": {
      "name": "python3",
      "display_name": "Python 3"
    },
    "language_info": {
      "name": "python"
    }
  },
  "cells": [
    {
      "cell_type": "code",
      "execution_count": null,
      "metadata": {
        "id": "RAxB2rj4pYAO"
      },
      "outputs": [],
      "source": []
    },
    {
      "cell_type": "markdown",
      "source": [
        "#Python OOPS"
      ],
      "metadata": {
        "id": "LeKCKx6Rpd_w"
      }
    },
    {
      "cell_type": "code",
      "source": [
        "#1.What is Object-Oriented Programming (OOP)?\n",
        "\"\"\"\n",
        "Object-Oriented Programming (OOP) is a programming paradigm that uses objects and classes to organize and structure software. It's based on the idea of bundling data (attributes) and methods (functions) that operate on that data into a single unit called an object.\n",
        "\"\"\""
      ],
      "metadata": {
        "id": "NqU3RDpEppWX"
      },
      "execution_count": null,
      "outputs": []
    },
    {
      "cell_type": "code",
      "source": [
        "#2.What is a class in OOP?\n",
        "\"\"\"\n",
        "In Object-Oriented Programming (OOP), a class is a blueprint or template for creating objects. It defines the attributes (data) and methods (functions) that the objects created from the class will have. Essentially, a class acts as a definition of the kind of object that will be instantiated from it.\n",
        "\"\"\""
      ],
      "metadata": {
        "id": "BLt_OGZsqcOX"
      },
      "execution_count": null,
      "outputs": []
    },
    {
      "cell_type": "code",
      "source": [
        "#3.What is an object in OOP?\n",
        "\"\"\"\n",
        "In Object-Oriented Programming (OOP), an object is an instance of a class. It is a concrete realization of the blueprint defined by the class. An object has its own unique set of attributes (data) and can perform actions defined by the methods of its class.\n",
        "\n",
        "\"\"\""
      ],
      "metadata": {
        "id": "msBmm5y-qzCf"
      },
      "execution_count": null,
      "outputs": []
    },
    {
      "cell_type": "code",
      "source": [
        "#4.What is the difference between abstraction and encapsulation?\n",
        "\"\"\"\n",
        "Abstraction and encapsulation are two important concepts in Object-Oriented Programming (OOP). While they are related, they serve different purposes:\n",
        "\n",
        "Abstraction: Abstraction is the process of simplifying complex systems by modeling classes based on the essential characteristics and behaviors they exhibit, ignoring unnecessary details. It focuses on what an object does rather than\n",
        " how it does it. Abstraction helps in managing complexity by providing a high-level view of objects and their interactions.\n",
        "\n",
        "Encapsulation: Encapsulation is the bundling of data (attributes) and methods (functions) that operate on that data into a single unit called an object. It restricts direct access to some\n",
        "\"\"\""
      ],
      "metadata": {
        "id": "pUnyHmt-q-Ku"
      },
      "execution_count": null,
      "outputs": []
    },
    {
      "cell_type": "code",
      "source": [
        "#5.What are dunder methods in Python?\n",
        "\"\"\"\n",
        "In Python, dunder methods (short for \"double underscore\" methods), also known as special methods or magic methods, are methods that have double underscores at the beginning and end of their names. These methods allow you to define how your objects interact with Python’s built-in operations, such as addition, string representation, object comparison, and more.\n",
        "\n",
        "Dunder methods are automatically called by Python when certain operations are performed on objects. For example, if you try to print an object, Python will internally call the __str__ method of the object. If you perform arithmetic operations like addition or multiplication, Python will call the corresponding dunder methods (__add__, __mul__, etc.).\n",
        "\"\"\""
      ],
      "metadata": {
        "id": "5Ej55EmmrSrZ"
      },
      "execution_count": null,
      "outputs": []
    },
    {
      "cell_type": "code",
      "source": [
        "#6.Explain the concept of inheritance in OOP.\n",
        "\"\"\"\n",
        "Inheritance is a fundamental concept in Object-Oriented Programming (OOP) that allows a new class (called the subclass or derived class) to inherit attributes and methods from an existing class (called the superclass or base class). This promotes code reuse and establishes a hierarchical relationship between classes.\n",
        "\n",
        "\"\"\""
      ],
      "metadata": {
        "id": "j4-MIuXqsMAP"
      },
      "execution_count": null,
      "outputs": []
    },
    {
      "cell_type": "code",
      "source": [
        "#7.What is polymorphism in OOP?\n",
        "\"\"\"\n",
        "Polymorphism is a concept in Object-Oriented Programming (OOP) that allows objects of different classes to be treated as objects of a common superclass. It enables a single interface to represent multiple forms (or types) of objects. Polymorphism is achieved through method overriding and method overloading.\n",
        "\"\"\""
      ],
      "metadata": {
        "id": "f1qAihVCsawu"
      },
      "execution_count": null,
      "outputs": []
    },
    {
      "cell_type": "code",
      "source": [
        "#8.How is encapsulation achieved in Python?\n",
        "\"\"\"\n",
        "In Python, encapsulation is the concept of restricting access to an object's internal state and providing controlled access through methods. It is one of the four fundamental principles of Object-Oriented Programming (OOP), along with inheritance, polymorphism, and abstraction.\n",
        "\n",
        "Encapsulation allows us to hide the internal details of an object and only expose the necessary functionality to the outside world. This helps to protect the internal state of an object from unintended or harmful changes, and it also allows for greater flexibility and maintainability.\n",
        "\n",
        "In Python, encapsulation is achieved primarily using access modifiers and getter/setter methods. Although Python does not have strict enforcement of private attributes like some other languages (such as Java or C++), it uses naming conventions to indicate the intended level of access.\n",
        "\"\"\""
      ],
      "metadata": {
        "id": "4SbrlQ9nho1_"
      },
      "execution_count": null,
      "outputs": []
    },
    {
      "cell_type": "code",
      "source": [
        "#9.What is a constructor in Python?\n",
        "\"\"\"\n",
        "In Python, a constructor is a special method that is automatically called when an object is created from a class. The constructor is used to initialize the attributes of the object with values provided during object creation.\n",
        "\n",
        "In Python, the constructor method is named __init__(). It takes self as the first parameter, which refers to the instance of the class being created. Additional parameters can be included to accept values that will be assigned to the object's attributes.\n",
        "\"\"\""
      ],
      "metadata": {
        "id": "VRQyoGyuiHCw"
      },
      "execution_count": null,
      "outputs": []
    },
    {
      "cell_type": "code",
      "source": [
        "#10.What are class and static methods in Python?\n",
        "\"\"\"\n",
        "In Python, class methods and static methods are special types of methods that can be defined within a class. They serve different purposes and have different characteristics compared to regular instance methods.\n",
        "Class methods are methods that are bound to the class itself rather than its instances. They are defined using the @classmethod decorator\n",
        "Static Methods:\n",
        "Static methods are methods that belong to the class but do not have access to the instance or class attributes. They are defined using the @staticmethod decorator.\n",
        "\n",
        "Static methods are useful when you want to define a method that is logically related to the class but does not need to access or modify instance or class attributes. They are often used for utility functions or helper methods that are related to the class but do not depend on the state of any particular instance.\n",
        "\"\"\""
      ],
      "metadata": {
        "id": "vtWV6vRNiTzm"
      },
      "execution_count": null,
      "outputs": []
    },
    {
      "cell_type": "code",
      "source": [
        "#11.What is method overloading in Python?\n",
        "\"\"\"\n",
        "Method overloading is a feature in some programming languages where multiple methods in a class can have the same name but different parameter lists. This allows the same method name to be used for different operations based on the types and number of arguments passed to it.\n",
        "\n",
        "However, Python does not support method overloading in the traditional sense. In Python, method overloading is not directly supported, and you cannot define multiple methods with the same name but different parameter lists. Instead, Python uses method overriding to achieve similar functionality.\n",
        "\"\"\""
      ],
      "metadata": {
        "id": "YHoesiudih1e"
      },
      "execution_count": null,
      "outputs": []
    },
    {
      "cell_type": "code",
      "source": [
        "#12.What is method overriding in OOP?\n",
        "\"\"\"\n",
        "Method overriding is a concept in Object-Oriented Programming (OOP) where a subclass provides its own implementation of a method that is already defined in its superclass. This allows the subclass to customize or extend the behavior of the inherited method while still maintaining the same method name.\n",
        "\n",
        "Method overriding is achieved by defining a method in the subclass with the same name, same parameters, and same return type as the method in the superclass. When an object of the subclass calls this method, the subclass's implementation is executed instead of the superclass's implementation.\n",
        "\"\"\""
      ],
      "metadata": {
        "id": "6gvCo0ediv_z"
      },
      "execution_count": null,
      "outputs": []
    },
    {
      "cell_type": "code",
      "source": [
        "#13.What is a property decorator in Python?\n",
        "\"\"\"\n",
        "In Python, a property decorator is a built-in decorator that allows you to define special methods for accessing and modifying attributes of a class. It provides a way to control how attributes are accessed and modified, allowing you to add custom behavior or validation logic.\n",
        "\n",
        "The property decorator is used to define getter, setter, and deleter methods for an attribute. These methods are called automatically when the attribute is accessed, modified, or deleted.\n",
        "\"\"\""
      ],
      "metadata": {
        "id": "w6NYnBGOi6iN"
      },
      "execution_count": null,
      "outputs": []
    },
    {
      "cell_type": "code",
      "source": [
        "#14.Why is polymorphism important in OOP?\n",
        "\"\"\"\n",
        "Polymorphism is important in Object-Oriented Programming (OOP) because it allows objects of different classes to be treated as objects of a common superclass. This promotes code reuse, flexibility, and extensibility in software development. Here are some reasons why polymorphism is important:\n",
        "\n",
        "1. Code Reusability\n",
        "Polymorphism allows you to write more generic code that can work with objects of different classes, as long as they share a common superclass or interface. This promotes code reusability, since the same function or method can operate on objects of different types.\n",
        "2. Extensibility\n",
        "Polymorphism enables extensibility, meaning you can add new classes (or objects) that follow the same interface without needing to modify the existing code.\n",
        "\n",
        "For instance, if you have a method that operates on shapes, you can easily extend your program by adding new shape classes (like Triangle) without having to change the logic of the existing methods.\n",
        "3. Simplification of Code\n",
        "Polymorphism simplifies code because you can write more generalized functions and methods that can handle multiple object types. This reduces the need for excessive conditionals (like if-else statements) that check the type of an object and then call the appropriate method.\n",
        "\n",
        "Without polymorphism, you'd often need to write different functions or use conditionals to handle different types. With polymorphism, the same function can handle many types of objects.\n",
        "4. Improved Maintainability\n",
        "Because polymorphism allows you to write flexible and reusable code, it improves maintainability. If you need to change the way one type of object behaves, you can change the class’s method implementation without affecting the rest of your code. The interface remains the same, and other parts of the code can continue to work as expected.\n",
        "\n",
        "For example, if the Circle class's area() method needs to be updated (e.g., using a more precise value for pi), you can modify just that method, and any code using the Circle class will automatically benefit from the change.\n",
        "5. Dynamic Method Resolution (Late Binding)\n",
        "Polymorphism supports dynamic method resolution (also called late binding), where the method that gets called is determined at runtime based on the object type. This means the behavior of the program can adapt to different object types dynamically.\n",
        "\n",
        "In contrast to static languages where method calls are resolved at compile time, polymorphism allows for more flexibility, especially in scenarios where the exact type of the object is not known until runtime.\n",
        "6. Reduction in Complexity\n",
        "Polymorphism helps reduce the complexity of the code by abstracting out the details of specific classes. When working with polymorphic code, you don’t need to worry about the specific types of objects—you can treat them all uniformly by their shared interface.\n",
        "\n",
        "This allows you to focus on higher-level logic rather than the intricacies of individual classes.\n",
        "7. Better Collaboration in Large Teams\n",
        "In large projects with multiple developers, polymorphism allows different developers to work on different parts of the project independently. One developer can work on the Circle class, while another works on the Rectangle class, and both classes can implement the same method (area()) in their own way.\n",
        "\n",
        "As long as all classes follow the same interface, polymorphism allows each developer to focus on their part of the project without worrying about how other developers' code works.\n",
        "\n",
        "\"\"\""
      ],
      "metadata": {
        "id": "wKIeOsH9jDwm"
      },
      "execution_count": null,
      "outputs": []
    },
    {
      "cell_type": "code",
      "source": [
        "#15.What is an abstract class in Python?\n",
        "\"\"\"\n",
        "In Python, an abstract class is a class that cannot be instantiated directly and is meant to be subclassed by other classes. It serves as a blueprint for other classes, defining a common interface that its subclasses must implement. Abstract classes are created using the abc module from the Python standard library.\n",
        "\n",
        "Abstract classes are useful when you want to define a common interface for a group of related classes, ensuring that all subclasses implement certain methods. They help enforce consistency and provide a way to organize and structure code.\n",
        "\"\"\""
      ],
      "metadata": {
        "id": "ZxR0AhPjkWmO"
      },
      "execution_count": null,
      "outputs": []
    },
    {
      "cell_type": "code",
      "source": [
        "#16.What are the advantages of OOP?\n",
        "\"\"\"\n",
        "Object-Oriented Programming (OOP) offers several advantages that make it a popular and effective approach to software development. Here are some of the key advantages of OOP:\n",
        "\n",
        "1. Modularity and Reusability\n",
        "OOP promotes modularity by breaking down complex systems into smaller, manageable objects. Each object encapsulates its own data\n",
        "\n",
        "and behavior, making it easier to understand, maintain, and reuse. This modularity allows developers to reuse existing code and build upon it, reducing development time and effort.\n",
        "2. Encapsulation and Data Hiding\n",
        "Encapsulation is a key principle of OOP that hides the internal details of an object and exposes\n",
        "\n",
        "only the necessary interfaces. This helps prevent unintended interference with the internal state of an object and improves the overall security and reliability of the software.\n",
        "3. Inheritance and Polymorphism\n",
        "Inheritance allows new classes to inherit attributes and methods from existing classes, promoting code reuse and establishing hierarchical relationships between classes. Polymorphism enables objects\n",
        "\"\"\""
      ],
      "metadata": {
        "id": "1ibfrR9Zkjb9"
      },
      "execution_count": null,
      "outputs": []
    },
    {
      "cell_type": "code",
      "source": [
        "#17.What is the difference between a class variable and an instance variable?\n",
        "\"\"\"\n",
        "In Python, class variables and instance variables are two types of variables that can be defined within a class. They serve different purposes and have different scopes.\n",
        "\n",
        "Class Variables:\n",
        "Class variables are variables that are defined at the class level and are shared among all instances of the class. They are declared outside of any methods within\n",
        " the class and are typically used to store data that is common to all instances of the class. Class variables are accessed using the class name or through instances of the class.\n",
        "Instance Variables:\n",
        "Instance variables are variables that are specific to each instance of a class. They are defined within methods, usually within the constructor (__init__()) method, and are prefixed with self to indicate that they belong to the instance. Instance variables store data that varies from one instance to another.\n",
        "\"\"\""
      ],
      "metadata": {
        "id": "ALEQjVKMk3re"
      },
      "execution_count": null,
      "outputs": []
    },
    {
      "cell_type": "code",
      "source": [
        "#18.What is multiple inheritance in Python?\n",
        "\"\"\"\n",
        "Multiple inheritance is a feature in Python that allows a class to inherit attributes and methods from multiple parent classes. This means that a subclass can inherit from more than one superclass, combining their functionalities.\n",
        "\n",
        "Multiple inheritance can be useful in situations where you want to reuse code from multiple sources or when you want to create a class\n",
        " that combines behaviors from different classes. However, it can also lead to complex inheritance hierarchies and potential conflicts between inherited methods, so it should be used judiciously.\n",
        "\"\"\""
      ],
      "metadata": {
        "id": "sde4yuZilFdG"
      },
      "execution_count": null,
      "outputs": []
    },
    {
      "cell_type": "code",
      "source": [
        "#19.Explain the purpose of ‘’__str__’ and ‘__repr__’ ‘ methods in Python.\n",
        "\"\"\"\n",
        "In Python, the __str__ and __repr__ methods are special (or dunder) methods used to define how objects are represented as strings. These methods allow you to control what is returned when an object is printed or represented in the interactive interpreter.\n",
        "\n",
        "Both methods serve similar purposes but are intended for different use cases. Here's a breakdown of each method and its purpose:\n",
        "\n",
        "1. __str__ Method\n",
        "The __str__ method is used to define a human-readable string representation of an object. When you use the print() function or str() on an object, Python will call this method to generate a user-friendly or descriptive output.\n",
        "\n",
        "Purpose: The __str__ method should return a string that is easy to understand for the end user. It is typically used for display purposes and should describe the object in a way that makes sense to people.\n",
        "2. __repr__ Method\n",
        "The __repr__ method is used to define an unambiguous string representation of an object. When you use the repr() function or evaluate an object in the interactive interpreter, Python will call this method to generate a string that can be used to recreate the object.\n",
        "\n",
        "Purpose: The __repr__ method should return a string that is unambiguous and can be used to recreate the object. It is typically used for debugging and logging purposes, where you need a detailed representation of the object.\n",
        "\n",
        "\"\"\""
      ],
      "metadata": {
        "id": "maWH9_unlPUt"
      },
      "execution_count": null,
      "outputs": []
    },
    {
      "cell_type": "code",
      "source": [
        "#20.What is the significance of the ‘super()’ function in Python?\n",
        "\"\"\"\n",
        "In Python, the super() function is used to call methods from a parent class (superclass) within a subclass. It allows you to invoke methods defined in the superclass, enabling code reuse and maintaining the integrity of the inheritance hierarchy.\n",
        "\n",
        "The super() function is particularly useful when you want to extend or override methods in\n",
        " the superclass while still retaining its functionality. It helps avoid duplicating code and ensures that the subclass behaves consistently with the superclass.\n",
        "\"\"\""
      ],
      "metadata": {
        "id": "RePlCiyLluPF"
      },
      "execution_count": null,
      "outputs": []
    },
    {
      "cell_type": "code",
      "source": [
        "#21.What is the significance of the __del__ method in Python?\n",
        "\"\"\"\n",
        "In Python, the __del__ method is a special method called the destructor. It is automatically invoked when an object is about to be destroyed or garbage collected. The __del__ method allows you to define custom cleanup actions for an object before it is removed from memory.\n",
        "\n",
        "The __del__ method is useful for performing\n",
        " cleanup tasks such as releasing resources, closing files, or disconnecting from external services. It ensures that any necessary cleanup operations are performed before an object is no longer needed.\n",
        "\"\"\""
      ],
      "metadata": {
        "id": "Tsyj8ePel5-Y"
      },
      "execution_count": null,
      "outputs": []
    },
    {
      "cell_type": "code",
      "source": [
        "#22.What is the difference between @staticmethod and @classmethod in Python?\n",
        "\"\"\"\n",
        "In Python, @staticmethod and @classmethod are decorators used to define special types of methods within a class. They serve different purposes and have different characteristics compared to regular instance methods.\n",
        "\n",
        "@staticmethod:\n",
        "The @staticmethod decorator is used to define static methods within a class. Static methods belong to the class itself and do not\n",
        " have access to the instance or class attributes. They are defined using the @staticmethod decorator.\n",
        "\n",
        "Static methods are useful when you want to define a method that is logically related to the class but does not need to access or modify instance or class attributes. They are often used for utility functions or helper methods that are related to\n",
        " the class but do not depend on the state of any particular instance.\n",
        "@classmethod:\n",
        "The @classmethod decorator is used to define class methods within a class. Class methods are methods that are bound to the class itself rather than its instances. They are defined using the @classmethod decorator.\n",
        "\n",
        "Class methods have access to the class itself (cls) as their first parameter, allowing them to access class attributes and perform operations at the class level. They are often used for factory methods that create instances of the class or for methods that manipulate class-level attributes.\n",
        "\"\"\""
      ],
      "metadata": {
        "id": "3rBT4yZamCCw"
      },
      "execution_count": null,
      "outputs": []
    },
    {
      "cell_type": "code",
      "source": [
        "#23.How does polymorphism work in Python with inheritance?\n",
        "\"\"\"\n",
        "Polymorphism works in Python with inheritance by allowing objects of different classes to be treated as objects of a common superclass. This means that you can write code that operates on objects of different types as long as they share a common interface or inherit from the same superclass.\n",
        "\n",
        "When you define a method in a super class, subclasses can override that method to provide their own implementation. This allows subclasses to customize the behavior of inherited methods while still maintaining the same method name.\n",
        "\"\"\""
      ],
      "metadata": {
        "id": "v5naJOm6mSfp"
      },
      "execution_count": null,
      "outputs": []
    },
    {
      "cell_type": "code",
      "source": [
        "#24.What is method chaining in Python OOP?\n",
        "\"\"\"\n",
        "Method chaining is a programming technique where multiple method calls are made consecutively on the same object, with each method call returning the object itself, allowing for a fluent and concise syntax.\n",
        "\n",
        "In Python, method chaining is achieved by returning self from each method that modifies the object's state. This allows you to chain multiple method calls together, forming a sequence of operations on the same object.\n",
        "\"\"\""
      ],
      "metadata": {
        "id": "I7FLoL4pmi0D"
      },
      "execution_count": null,
      "outputs": []
    },
    {
      "cell_type": "code",
      "source": [
        "#25.What is the purpose of the __call__ method in Python?\n",
        "\"\"\"\n",
        "In Python, the __call__ method is a special method that allows an object to be called like a function. When an object with a __call__ method is called, the __call__ method is automatically invoked.\n",
        "\n",
        "The __call__ method is useful when you want to create objects that behave like functions or when you want to define custom callable objects. It allows you to encapsulate functionality within an object and invoke it using parentheses, similar to calling a regular function.\n",
        "\"\"\""
      ],
      "metadata": {
        "id": "AfRzTlNnmxWG"
      },
      "execution_count": null,
      "outputs": []
    },
    {
      "cell_type": "markdown",
      "source": [
        "#Practicl Questions"
      ],
      "metadata": {
        "id": "uHty2nUem_JC"
      }
    },
    {
      "cell_type": "code",
      "source": [
        "#1. Create a parent class Animal with a method speak() that prints a generic message. Create a child class Dog that overrides the speak() method to print \"Bark!\"\n",
        "# Parent class Animal\n",
        "class Animal:\n",
        "    def speak(self):\n",
        "        print(\"Some generic animal sound\")\n",
        "\n",
        "# Child class Dog inherits from Animal\n",
        "class Dog(Animal):\n",
        "    def speak(self):\n",
        "        print(\"Bark!\")\n",
        "\n",
        "# Create instances of Animal and Dog\n",
        "animal = Animal()\n",
        "dog = Dog()\n",
        "\n",
        "# Calling speak method on both instances\n",
        "animal.speak()  # Output: Some generic animal sound\n",
        "dog.speak()     # Output: Bark!\n",
        "\n"
      ],
      "metadata": {
        "id": "5HdUWtw4nEjB"
      },
      "execution_count": null,
      "outputs": []
    },
    {
      "cell_type": "code",
      "source": [
        "#2.Write a program to create an abstract class Shape with a method area(). Derive classes Circle and Rectangle from it and implement the area() method in both.\n",
        "from abc import ABC, abstractmethod\n",
        "import math\n",
        "\n",
        "# Abstract class Shape\n",
        "class Shape(ABC):\n",
        "    @abstractmethod\n",
        "    def area(self):\n",
        "        pass\n",
        "\n",
        "# Derived class Circle\n",
        "class Circle(Shape):\n",
        "    def __init__(self, radius):\n",
        "        self.radius = radius\n",
        "\n",
        "    def area(self):\n",
        "        return math.pi * (self.radius ** 2)\n",
        "\n",
        "# Derived class Rectangle\n",
        "class Rectangle(Shape):\n",
        "    def __init__(self, width, height):\n",
        "        self.width = width\n",
        "        self.height = height\n",
        "\n",
        "    def area(self):\n",
        "        return self.width * self.height\n",
        "\n",
        "# Create instances of Circle and Rectangle\n",
        "circle = Circle(5)\n",
        "rectangle = Rectangle(4, 6)\n",
        "\n",
        "# Print areas\n",
        "print(f\"Area of Circle: {circle.area()}\")        # Output: Area of Circle: 78.53981633974483\n",
        "print(f\"Area of Rectangle: {rectangle.area()}\")  # Output: Area of Rectangle: 24\n"
      ],
      "metadata": {
        "id": "axziRk5sndZR"
      },
      "execution_count": null,
      "outputs": []
    },
    {
      "cell_type": "code",
      "source": [
        "#3. Implement a multi-level inheritance scenario where a class Vehicle has an attribute type. Derive a class Car and further derive a class ElectricCar that adds a battery attribute.\n",
        "# Base class Vehicle\n",
        "class Vehicle:\n",
        "    def __init__(self, type):\n",
        "        self.type = type\n",
        "\n",
        "    def display_type(self):\n",
        "        print(f\"Vehicle type: {self.type}\")\n",
        "\n",
        "# Derived class Car inherits from Vehicle\n",
        "class Car(Vehicle):\n",
        "    def __init__(self, type, brand):\n",
        "        super().__init__(type)  # Initialize the Vehicle class\n",
        "        self.brand = brand\n",
        "\n",
        "    def display_car(self):\n",
        "        print(f\"Car brand: {self.brand}\")\n",
        "\n",
        "# Further derived class ElectricCar inherits from Car\n",
        "class ElectricCar(Car):\n",
        "    def __init__(self, type, brand, battery):\n",
        "        super().__init__(type, brand)  # Initialize the Car class\n",
        "        self.battery = battery\n",
        "\n",
        "    def display_battery(self):\n",
        "        print(f\"Electric car battery capacity: {self.battery} kWh\")\n",
        "\n",
        "# Create an instance of ElectricCar\n",
        "electric_car = ElectricCar(\"Electric\", \"Tesla\", 75)\n",
        "\n",
        "# Calling methods from all levels of the inheritance\n",
        "electric_car.display_type()     # Vehicle method\n",
        "electric_car.display_car()      # Car method\n",
        "electric_car.display_battery()  # ElectricCar method\n"
      ],
      "metadata": {
        "id": "bOW77T40nrIN"
      },
      "execution_count": null,
      "outputs": []
    },
    {
      "cell_type": "code",
      "source": [
        "#4. Demonstrate polymorphism by creating a base class Bird with a method fly(). Create two derived classes Sparrow and Penguin that override the fly() method.\n",
        "# Base class Bird\n",
        "class Bird:\n",
        "    def fly(self):\n",
        "        print(\"This bird can fly.\")\n",
        "\n",
        "# Derived class Sparrow\n",
        "class Sparrow(Bird):\n",
        "    def fly(self):\n",
        "        print(\"The sparrow flies high in the sky.\")\n",
        "\n",
        "# Derived class Penguin\n",
        "class Penguin(Bird):\n",
        "    def fly(self):\n",
        "        print(\"Penguins can't fly, but they swim well.\")\n",
        "\n",
        "# Create instances of Sparrow and Penguin\n",
        "sparrow = Sparrow()\n",
        "penguin = Penguin()\n",
        "\n",
        "# Demonstrating polymorphism\n",
        "def make_bird_fly(bird):\n",
        "    bird.fly()  # This calls the appropriate method based on the bird's actual class\n",
        "\n",
        "# Call the make_bird_fly function with both Sparrow and Penguin\n",
        "make_bird_fly(sparrow)  # Output: The sparrow flies high in the sky.\n",
        "make_bird_fly(penguin)  # Output: Penguins can't fly, but they swim well.\n"
      ],
      "metadata": {
        "id": "4Nnf6x3_oD3U"
      },
      "execution_count": null,
      "outputs": []
    },
    {
      "cell_type": "code",
      "source": [
        "#5. Write a program to demonstrate encapsulation by creating a class BankAccount with private attributes balance and methods to deposit, withdraw, and check balance.\n",
        "class BankAccount:\n",
        "    def __init__(self, initial_balance=0):\n",
        "        # Private attribute (encapsulated)\n",
        "        self.__balance = initial_balance\n",
        "\n",
        "    # Public method to deposit money\n",
        "    def deposit(self, amount):\n",
        "        if amount > 0:\n",
        "            self.__balance += amount\n",
        "            print(f\"Deposited: ${amount}\")\n",
        "        else:\n",
        "            print(\"Deposit amount must be positive.\")\n",
        "\n",
        "    # Public method to withdraw money\n",
        "    def withdraw(self, amount):\n",
        "        if 0 < amount <= self.__balance:\n",
        "            self.__balance -= amount\n",
        "            print(f\"Withdrew: ${amount}\")\n",
        "        else:\n",
        "            print(\"Insufficient balance or invalid amount.\")\n",
        "\n",
        "    # Public method to check balance\n",
        "    def check_balance(self):\n",
        "        print(f\"Current balance: ${self.__balance}\")\n",
        "\n",
        "    # Getter method to access the private balance attribute\n",
        "    def get_balance(self):\n",
        "        return self.__balance\n",
        "\n",
        "# Create an instance of BankAccount\n",
        "account = BankAccount(1000)\n",
        "\n",
        "# Deposit some money\n",
        "account.deposit(500)\n",
        "\n",
        "# Withdraw some money\n",
        "account.withdraw(300)\n",
        "\n",
        "# Check balance\n",
        "account.check_balance()\n",
        "\n",
        "# Try to access private balance directly (this will cause an error)\n",
        "# print(account.__balance)  # Uncommenting this line will result in an error\n",
        "\n",
        "# Access the balance using the getter method\n",
        "print(f\"Balance accessed via getter: ${account.get_balance()}\")"
      ],
      "metadata": {
        "id": "6_SsrL2UoYyW"
      },
      "execution_count": null,
      "outputs": []
    },
    {
      "cell_type": "code",
      "source": [
        "#6.Demonstrate runtime polymorphism using a method play() in a base class Instrument. Derive classes Guitar and Piano that implement their own version of play().\n",
        "\n",
        "# Base class Instrument\n",
        "class Instrument:\n",
        "    def play(self):\n",
        "        print(\"This instrument plays music.\")\n",
        "\n",
        "# Derived class Guitar\n",
        "class Guitar(Instrument):\n",
        "    def play(self):\n",
        "        print(\"The guitar strums chords.\")\n",
        "\n",
        "# Derived class Piano\n",
        "class Piano(Instrument):\n",
        "    def play(self):\n",
        "        print(\"The piano plays a beautiful melody.\")\n",
        "\n",
        "# Demonstrating runtime polymorphism\n",
        "def instrument_play(instrument):\n",
        "    instrument.play()  # Calls the appropriate play() method based on the object type\n",
        "\n",
        "# Create instances of Guitar and Piano\n",
        "guitar = Guitar()\n",
        "piano = Piano()\n",
        "\n",
        "# Calling the instrument_play function with different instruments\n",
        "instrument_play(guitar)  # Output: The guitar strums chords.\n",
        "instrument_play(piano)   # Output: The piano plays a beautiful melody."
      ],
      "metadata": {
        "id": "UbjH1fDYoooL"
      },
      "execution_count": null,
      "outputs": []
    },
    {
      "cell_type": "code",
      "source": [
        "#7.Create a class MathOperations with a class method add_numbers() to add two numbers and a static method subtract_numbers() to subtract two numbers.\n",
        "class MathOperations:\n",
        "\n",
        "    # Class method to add two numbers\n",
        "    @classmethod\n",
        "    def add_numbers(cls, num1, num2):\n",
        "        return num1 + num2\n",
        "\n",
        "    # Static method to subtract two numbers\n",
        "    @staticmethod\n",
        "    def subtract_numbers(num1, num2):\n",
        "        return num1 - num2\n",
        "\n",
        "# Demonstrating the usage of class method and static method\n",
        "\n",
        "# Calling the class method using the class itself\n",
        "sum_result = MathOperations.add_numbers(10, 5)\n",
        "print(f\"Sum: {sum_result}\")  # Output: Sum: 15\n",
        "\n",
        "# Calling the static method using the class itself\n",
        "difference_result = MathOperations.subtract_numbers(10, 5)\n",
        "print(f\"Difference: {difference_result}\")  # Output: Difference: 5"
      ],
      "metadata": {
        "id": "H--NDC5RpFdw"
      },
      "execution_count": null,
      "outputs": []
    },
    {
      "cell_type": "code",
      "source": [
        "#8.Implement a class Person with a class method to count the total number of persons created.\n",
        "class Person:\n",
        "    # Class attribute to keep track of the number of persons created\n",
        "    total_persons = 0\n",
        "\n",
        "    def __init__(self, name, age):\n",
        "        self.name = name\n",
        "        self.age = age\n",
        "\n",
        "        # Increment the total_persons count whenever a new Person object is created\n",
        "        Person.total_persons += 1\n",
        "\n",
        "    # Class method to get the total number of persons created\n",
        "    @classmethod\n",
        "    def get_total_persons(cls):\n",
        "        return cls.total_persons\n",
        "\n",
        "# Create instances of Person\n",
        "person1 = Person(\"Alice\", 30)\n",
        "person2 = Person(\"Bob\", 25)\n",
        "person3 = Person(\"Charlie\", 35)\n",
        "\n",
        "# Get the total number of persons created using the class method\n",
        "print(f\"Total number of persons created: {Person.get_total_persons()}\")  # Output: 3"
      ],
      "metadata": {
        "id": "N4ovx9MvpZie"
      },
      "execution_count": null,
      "outputs": []
    },
    {
      "cell_type": "code",
      "source": [
        "#9. Write a class Fraction with attributes numerator and denominator. Override the str method to display the fraction as \"numerator/denominator\".\n",
        "class Fraction:\n",
        "    def __init__(self, numerator, denominator):\n",
        "        # Initialize the attributes numerator and denominator\n",
        "        self.numerator = numerator\n",
        "        self.denominator = denominator\n",
        "\n",
        "    # Override the __str__ method to display the fraction as \"numerator/denominator\"\n",
        "    def __str__(self):\n",
        "        return f\"{self.numerator}/{self.denominator}\"\n",
        "\n",
        "# Create instances of Fraction\n",
        "fraction1 = Fraction(3, 4)\n",
        "fraction2 = Fraction(5, 6)\n",
        "\n",
        "# Print the fractions\n",
        "print(fraction1)  # Output: 3/4\n",
        "print(fraction2)  # Output: 5/6"
      ],
      "metadata": {
        "id": "DyVsZoQXpjiC"
      },
      "execution_count": null,
      "outputs": []
    },
    {
      "cell_type": "code",
      "source": [
        "#10.Demonstrate operator overloading by creating a class Vector and overriding the add method to add two vectors\n",
        "class Vector:\n",
        "    def __init__(self, x, y):\n",
        "        # Initialize the vector with components x and y\n",
        "        self.x = x\n",
        "        self.y = y\n",
        "\n",
        "    # Overload the + operator using __add__ method\n",
        "    def __add__(self, other):\n",
        "        # Add corresponding components of the two vectors\n",
        "        return Vector(self.x + other.x, self.y + other.y)\n",
        "\n",
        "    # Override the __str__ method for better display of the vector\n",
        "    def __str__(self):\n",
        "        return f\"({self.x}, {self.y})\"\n",
        "\n",
        "# Create two Vector objects\n",
        "vector1 = Vector(2, 3)\n",
        "vector2 = Vector(4, 1)\n",
        "\n",
        "# Add the two vectors using the overloaded + operator\n",
        "result = vector1 + vector2\n",
        "\n",
        "# Print the result\n",
        "print(f\"Vector 1: {vector1}\")\n",
        "print(f\"Vector 2: {vector2}\")\n",
        "print(f\"Sum: {result}\")"
      ],
      "metadata": {
        "id": "ZVTWJ9yqpyjm"
      },
      "execution_count": null,
      "outputs": []
    },
    {
      "cell_type": "code",
      "source": [
        "#11.Create a class Person with attributes name and age. Add a method greet() that prints \"Hello, my name is {name} and I am {age} years old.\"\n",
        "class Person:\n",
        "    def __init__(self, name, age):\n",
        "        # Initialize the attributes name and age\n",
        "        self.name = name\n",
        "        self.age = age\n",
        "\n",
        "    # Method to greet and display person's information\n",
        "    def greet(self):\n",
        "        print(f\"Hello, my name is {self.name} and I am {self.age} years old.\")\n",
        "\n",
        "# Create an instance of Person\n",
        "person1 = Person(\"Alice\", 30)\n",
        "\n",
        "# Call the greet method to print the greeting\n",
        "person1.greet()"
      ],
      "metadata": {
        "id": "lqy9DgMkqCm9"
      },
      "execution_count": null,
      "outputs": []
    },
    {
      "cell_type": "code",
      "source": [
        "#12. Implement a class Student with attributes name and grades. Create a method average_grade() to compute the average of the grades.\n",
        "class Student:\n",
        "    def __init__(self, name, grades):\n",
        "        # Initialize the name and grades attributes\n",
        "        self.name = name\n",
        "        self.grades = grades  # List of grades\n",
        "\n",
        "    def average_grade(self):\n",
        "        # Compute the average of the grades\n",
        "        if len(self.grades) == 0:\n",
        "            return 0  # Avoid division by zero if there are no grades\n",
        "        return sum(self.grades) / len(self.grades)\n",
        "\n",
        "# Create an instance of Student\n",
        "student1 = Student(\"John\", [85, 90, 78, 92])\n",
        "\n",
        "# Call the average_grade method to compute the average\n",
        "average = student1.average_grade()\n",
        "\n",
        "# Print the result\n",
        "print(f\"{student1.name}'s average grade is: {average}\")"
      ],
      "metadata": {
        "id": "WuGfjZ6vqRct"
      },
      "execution_count": null,
      "outputs": []
    },
    {
      "cell_type": "code",
      "source": [
        "#13.Create a class Rectangle with methods set_dimensions() to set the dimensions and area() to calculate the area.\n",
        "class Rectangle:\n",
        "    def __init__(self):\n",
        "        # Initialize the dimensions of the rectangle (length and width)\n",
        "        self.length = 0\n",
        "        self.width = 0\n",
        "\n",
        "    def set_dimensions(self, length, width):\n",
        "        # Set the dimensions (length and width) of the rectangle\n",
        "        self.length = length\n",
        "        self.width = width\n",
        "\n",
        "    def area(self):\n",
        "        # Calculate and return the area of the rectangle\n",
        "        return self.length * self.width\n",
        "\n",
        "# Create an instance of Rectangle\n",
        "rect = Rectangle()\n",
        "\n",
        "# Set the dimensions of the rectangle\n",
        "rect.set_dimensions(5, 3)\n",
        "\n",
        "# Calculate and print the area of the rectangle\n",
        "print(f\"The area of the rectangle is: {rect.area()}\")  # Output: The area of the rectangle is: 15"
      ],
      "metadata": {
        "id": "rjzeP1d9qdSE"
      },
      "execution_count": null,
      "outputs": []
    },
    {
      "cell_type": "code",
      "source": [
        "#14. Create a class Employee with a method calculate_salary() that computes the salary based on hours worked and hourly rate. Create a derived class Manager that adds a bonus to the salary.\n",
        "# Base class Employee\n",
        "class Employee:\n",
        "    def __init__(self, hours_worked, hourly_rate):\n",
        "        # Initialize the attributes: hours worked and hourly rate\n",
        "        self.hours_worked = hours_worked\n",
        "        self.hourly_rate = hourly_rate\n",
        "\n",
        "    def calculate_salary(self):\n",
        "        # Calculate salary based on hours worked and hourly rate\n",
        "        return self.hours_worked * self.hourly_rate\n",
        "\n",
        "# Derived class Manager\n",
        "class Manager(Employee):\n",
        "    def __init__(self, hours_worked, hourly_rate, bonus):\n",
        "        # Initialize attributes for both Employee and Manager\n",
        "        super().__init__(hours_worked, hourly_rate)\n",
        "        self.bonus = bonus\n",
        "\n",
        "    def calculate_salary(self):\n",
        "        # Calculate the salary by adding the bonus to the base salary\n",
        "        base_salary = super().calculate_salary()  # Call the parent method to get base salary\n",
        "        return base_salary + self.bonus\n",
        "\n",
        "# Create an instance of Employee\n",
        "employee = Employee(40, 20)  # 40 hours worked, $20 hourly rate\n",
        "employee_salary = employee.calculate_salary()\n",
        "print(f\"Employee's salary: ${employee_salary}\")\n",
        "\n",
        "# Create an instance of Manager\n",
        "manager = Manager(40, 20, 1000)  # 40 hours worked, $20 hourly rate, $1000 bonus\n",
        "manager_salary = manager.calculate_salary()\n",
        "print(f\"Manager's salary (with bonus): ${manager_salary}\")"
      ],
      "metadata": {
        "id": "BGOkpPsSqpwZ"
      },
      "execution_count": null,
      "outputs": []
    },
    {
      "cell_type": "code",
      "source": [
        "#15.Create a class Product with attributes name, price, and quantity. Implement a method total_price() that calculates the total price of the product\n",
        "class Product:\n",
        "    def __init__(self, name, price, quantity):\n",
        "        # Initialize the attributes: name, price, and quantity\n",
        "        self.name = name\n",
        "        self.price = price\n",
        "        self.quantity = quantity\n",
        "\n",
        "    def total_price(self):\n",
        "        # Calculate the total price by multiplying price and quantity\n",
        "        return self.price * self.quantity\n",
        "\n",
        "# Create an instance of Product\n",
        "product1 = Product(\"Laptop\", 1000, 3)  # name=\"Laptop\", price=1000, quantity=3\n",
        "\n",
        "# Calculate and print the total price of the product\n",
        "total = product1.total_price()\n",
        "print(f\"The total price for {product1.name} is: ${total}\")"
      ],
      "metadata": {
        "id": "m1mT6rU1q9Yq"
      },
      "execution_count": null,
      "outputs": []
    },
    {
      "cell_type": "code",
      "source": [
        "#16.Create a class Animal with an abstract method sound(). Create two derived classes Cow and Sheep that implement the sound() method.\n",
        "from abc import ABC, abstractmethod\n",
        "\n",
        "# Abstract Base Class\n",
        "class Animal(ABC):\n",
        "    @abstractmethod\n",
        "    def sound(self):\n",
        "        # Abstract method that must be implemented by subclasses\n",
        "        pass\n",
        "\n",
        "# Derived class Cow\n",
        "class Cow(Animal):\n",
        "    def sound(self):\n",
        "        # Cow's sound\n",
        "        return \"Moo\"\n",
        "\n",
        "# Derived class Sheep\n",
        "class Sheep(Animal):\n",
        "    def sound(self):\n",
        "        # Sheep's sound\n",
        "        return \"Baa\"\n",
        "\n",
        "# Create instances of Cow and Sheep\n",
        "cow = Cow()\n",
        "sheep = Sheep()\n",
        "\n",
        "# Call the sound method\n",
        "print(f\"Cow says: {cow.sound()}\")\n",
        "print(f\"Sheep says: {sheep.sound()}\")"
      ],
      "metadata": {
        "id": "V3jrlKVkrRDQ"
      },
      "execution_count": null,
      "outputs": []
    },
    {
      "cell_type": "code",
      "source": [
        "#17. Create a class Book with attributes title, author, and year_published. Add a method get_book_info() that returns a formatted string with the book's details.\n",
        "class Book:\n",
        "    def __init__(self, title, author, year_published):\n",
        "        # Initialize the attributes: title, author, and year_published\n",
        "        self.title = title\n",
        "        self.author = author\n",
        "        self.year_published = year_published\n",
        "\n",
        "    def get_book_info(self):\n",
        "        # Return a formatted string with the book's details\n",
        "        return f\"Title: {self.title}\\nAuthor: {self.author}\\nYear Published: {self.year_published}\"\n",
        "\n",
        "# Create an instance of Book\n",
        "book1 = Book(\"The Great Gatsby\", \"F. Scott Fitzgerald\", 1925)\n",
        "\n",
        "# Get the book's information and print it\n",
        "book_info = book1.get_book_info()\n",
        "print(book_info)\n"
      ],
      "metadata": {
        "id": "zsbHEXVMrftG"
      },
      "execution_count": null,
      "outputs": []
    },
    {
      "cell_type": "code",
      "source": [
        "#18.Create a class House with attributes address and price. Create a derived class Mansion that adds an attribute number_of_rooms.\n",
        "\n",
        "# Base class House\n",
        "class House:\n",
        "    def __init__(self, address, price):\n",
        "        # Initialize the attributes: address and price\n",
        "        self.address = address\n",
        "        self.price = price\n",
        "\n",
        "    def get_details(self):\n",
        "        # Return the details of the house\n",
        "        return f\"Address: {self.address}\\nPrice: ${self.price}\"\n",
        "\n",
        "# Derived class Mansion\n",
        "class Mansion(House):\n",
        "    def __init__(self, address, price, number_of_rooms):\n",
        "        # Initialize the attributes for both House and Mansion\n",
        "        super().__init__(address, price)\n",
        "        self.number_of_rooms = number_of_rooms\n",
        "\n",
        "    def get_details(self):\n",
        "        # Get the details of the mansion, including number of rooms\n",
        "        house_details = super().get_details()\n",
        "        return f\"{house_details}\\nNumber of Rooms: {self.number_of_rooms}\"\n",
        "\n",
        "# Create an instance of House\n",
        "house = House(\"123 Main St\", 300000)\n",
        "\n",
        "# Create an instance of Mansion\n",
        "mansion = Mansion(\"456 Luxury Ave\", 1500000, 12)\n",
        "\n",
        "# Get and print the details of both house and mansion\n",
        "print(\"House Details:\")\n",
        "print(house.get_details())\n",
        "\n",
        "print(\"\\nMansion Details:\")\n",
        "print(mansion.get_details())"
      ],
      "metadata": {
        "id": "E4s_4lQErwyF"
      },
      "execution_count": null,
      "outputs": []
    }
  ]
}